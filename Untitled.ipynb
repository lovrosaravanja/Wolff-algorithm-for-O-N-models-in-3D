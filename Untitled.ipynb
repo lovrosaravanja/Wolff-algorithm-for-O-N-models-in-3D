{
 "cells": [
  {
   "cell_type": "code",
   "execution_count": 1,
   "id": "47968679",
   "metadata": {},
   "outputs": [],
   "source": [
    "import numpy as np\n",
    "import matplotlib.pyplot as plt"
   ]
  },
  {
   "cell_type": "code",
   "execution_count": 2,
   "id": "3ae1876b",
   "metadata": {},
   "outputs": [
    {
     "name": "stdout",
     "output_type": "stream",
     "text": [
      "Wall time: 39.9 ms\n"
     ]
    }
   ],
   "source": [
    "%%time\n",
    "k=10\n",
    "N1=k       #parametri rešetke\n",
    "N2=k       #\n",
    "N3=k       #  \n",
    "N=4         #dimenzija iz O(N)\n",
    "\n",
    "def kom(i):\n",
    "    xp=tuple(np.mod((i[0]+1,i[1],i[2]),(N1,N2,N3)))\n",
    "    xm=tuple(np.mod((i[0]-1,i[1],i[2]),(N1,N2,N3)))\n",
    "    yp=tuple(np.mod((i[0],i[1]+1,i[2]),(N1,N2,N3)))\n",
    "    ym=tuple(np.mod((i[0],i[1]-1,i[2]),(N1,N2,N3)))\n",
    "    zp=tuple(np.mod((i[0],i[1],i[2]+1),(N1,N2,N3)))\n",
    "    zm=tuple(np.mod((i[0],i[1],i[2]-1),(N1,N2,N3)))       \n",
    "    return [xp,xm,yp,ym,zp,zm]\n",
    "\n",
    "def komsija(i3,lattp,Rp,bondp):\n",
    "    ff=[]\n",
    "    for k in kom(i3):\n",
    "        if int(bondp[k])==1:\n",
    "            None\n",
    "        else:\n",
    "            s=np.exp(min([0,-2*beta*sum(lattp[i3]*Rp)*sum(lattp[k]*Rp)]))\n",
    "            if np.random.choice(2,p=[s,1-s])==1:\n",
    "                bondp[k]=1\n",
    "                ff+=[k]\n",
    "            else:\n",
    "                None\n",
    "    return ff\n",
    "\n",
    "def rand_vec(D):  \n",
    "    a=np.random.rand(D-1)*np.array([np.pi*(1+int((k+2)/D)) for k in range(D-1)])\n",
    "    carr=np.ones(D)\n",
    "    for i in range(D-1):\n",
    "        carr[i]*=np.cos(a[i])\n",
    "        j=0\n",
    "        while j<i:\n",
    "            carr[i]*=np.sin(a[j])\n",
    "            j+=1\n",
    "    carr[D-1]=np.sin(a[D-2])\n",
    "    j=0\n",
    "    while j<D-2:\n",
    "        carr[D-1]*=np.sin(a[j])\n",
    "        j+=1\n",
    "    return carr\n",
    "\n",
    "rand_latt=np.zeros([N1,N2,N3,N])\n",
    "\n",
    "for i1 in range(N1):\n",
    "    for i2 in range(N2):\n",
    "        for i3 in range(N3):\n",
    "            rand_latt[i1,i2,i3]=rand_vec(N)\n",
    "    \n",
    "def mag(lattp):\n",
    "    mag=np.zeros(N)\n",
    "    for i1 in range(N1):\n",
    "        for i2 in range(N2):\n",
    "            for i3 in range(N3):\n",
    "                mag+=lattp[i1,i2,i3]\n",
    "    return mag/N1/N2/N3"
   ]
  },
  {
   "cell_type": "code",
   "execution_count": 4,
   "id": "4b7c24f5",
   "metadata": {},
   "outputs": [
    {
     "name": "stdout",
     "output_type": "stream",
     "text": [
      "Wall time: 20min 51s\n"
     ]
    },
    {
     "data": {
      "text/plain": [
       "2"
      ]
     },
     "execution_count": 4,
     "metadata": {},
     "output_type": "execute_result"
    }
   ],
   "source": [
    "%%time\n",
    "beta=0.9\n",
    "\n",
    "stop_time=int(1e5) \n",
    "i=0\n",
    "latt=rand_latt\n",
    "txt=open('corr'+str(beta)+'N'+str(N)+'.txt','a')\n",
    "\n",
    "while i<stop_time:\n",
    "    R=rand_vec(N)\n",
    "    bond=np.zeros([N1,N2,N3])    \n",
    "    X=(np.random.randint(0,N1),np.random.randint(0,N2),np.random.randint(0,N3))\n",
    "\n",
    "    bound=[X]\n",
    "    cluster=[X]\n",
    "    bond[X]=1                 \n",
    "                           \n",
    "    while len(bound)>=0.1:\n",
    "        bound1=[]\n",
    "        for j in bound:\n",
    "            bound1+=komsija(j,latt,R,bond)\n",
    "            #print(j,bound1)\n",
    "        bound=bound1\n",
    "        cluster+=bound\n",
    "    \n",
    "    for c in cluster:\n",
    "        latt[c]+=-2*sum(latt[c]*R)*R\n",
    "        \n",
    "    #txt.write(str(sum(mag(latt)**2)/2)+'\\n')\n",
    "    txt.write(str(mag(latt))+'\\n')\n",
    "    i+=1\n",
    "txt.close()\n",
    "len(cluster)"
   ]
  },
  {
   "cell_type": "code",
   "execution_count": null,
   "id": "1d66bc3c",
   "metadata": {},
   "outputs": [],
   "source": [
    "txt=open('data'+str(beta)+'N'+str(N)+'.txt','r')\n",
    "step=int((N1*N2*N3)**(2/3))\n",
    "\n",
    "ss=txt.read()\n",
    "a=ss.split('\\n')\n",
    "Data=np.array([float(k) for k in a[0:len(a)-1]])\n",
    "Datar=np.array([Data[k*step] for k in range(int(len(Data)/step))])\n",
    "plt.hist(Datar,50)\n",
    "\n",
    "len(Data)\n",
    "txt.close()"
   ]
  },
  {
   "cell_type": "code",
   "execution_count": null,
   "id": "569bb2b7",
   "metadata": {},
   "outputs": [],
   "source": [
    "np.random.choice(2,p=[0.5,0.5])"
   ]
  }
 ],
 "metadata": {
  "kernelspec": {
   "display_name": "Python 3 (ipykernel)",
   "language": "python",
   "name": "python3"
  },
  "language_info": {
   "codemirror_mode": {
    "name": "ipython",
    "version": 3
   },
   "file_extension": ".py",
   "mimetype": "text/x-python",
   "name": "python",
   "nbconvert_exporter": "python",
   "pygments_lexer": "ipython3",
   "version": "3.9.7"
  }
 },
 "nbformat": 4,
 "nbformat_minor": 5
}
